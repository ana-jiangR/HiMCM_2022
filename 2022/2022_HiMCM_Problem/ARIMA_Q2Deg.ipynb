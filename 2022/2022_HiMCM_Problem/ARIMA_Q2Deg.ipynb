{
 "cells": [
  {
   "cell_type": "code",
   "execution_count": 92,
   "metadata": {},
   "outputs": [
    {
     "data": {
      "application/vnd.plotly.v1+json": {
       "config": {
        "plotlyServerURL": "https://plot.ly"
       },
       "data": [
        {
         "mode": "lines",
         "name": "Degree_diff(1)",
         "type": "scatter",
         "x": [
          1959,
          1960,
          1961,
          1962,
          1963,
          1964,
          1965,
          1966,
          1967,
          1968,
          1969,
          1970,
          1971,
          1972,
          1973,
          1974,
          1975,
          1976,
          1977,
          1978,
          1979,
          1980,
          1981,
          1982,
          1983,
          1984,
          1985,
          1986,
          1987,
          1988,
          1989,
          1990,
          1991,
          1992,
          1993,
          1994,
          1995,
          1996,
          1997,
          1998,
          1999,
          2000,
          2001,
          2002,
          2003,
          2004,
          2005,
          2006,
          2007,
          2008,
          2009,
          2010,
          2011,
          2012,
          2013,
          2014,
          2015,
          2016,
          2017,
          2018,
          2019,
          2020,
          2021
         ],
         "y": [
          null,
          -0.06,
          0.09,
          -0.03,
          0.020000000000000004,
          -0.25,
          0.09000000000000001,
          0.05,
          0.039999999999999994,
          -0.06,
          0.13,
          -0.020000000000000004,
          -0.11,
          0.09,
          0.15,
          -0.23,
          0.060000000000000005,
          -0.09000000000000001,
          0.28,
          -0.10999999999999999,
          0.09,
          0.1,
          0.06,
          -0.18,
          0.16999999999999998,
          -0.15,
          -0.04000000000000001,
          0.06,
          0.14,
          0.07,
          -0.12,
          0.18,
          -0.04999999999999999,
          -0.18000000000000002,
          0.010000000000000009,
          0.09,
          0.13,
          -0.12,
          0.13,
          0.14999999999999997,
          -0.22999999999999998,
          0.010000000000000009,
          0.14,
          0.09999999999999998,
          -0.010000000000000009,
          -0.08999999999999997,
          0.14,
          -0.040000000000000036,
          0.030000000000000027,
          -0.12,
          0.10999999999999999,
          0.06999999999999995,
          -0.10999999999999999,
          0.040000000000000036,
          0.020000000000000018,
          0.06999999999999995,
          0.15000000000000002,
          0.12,
          -0.08999999999999997,
          -0.08000000000000007,
          0.13,
          0.050000000000000044,
          -0.18000000000000005
         ]
        },
        {
         "mode": "lines",
         "name": "Degree",
         "type": "scatter",
         "x": [
          1959,
          1960,
          1961,
          1962,
          1963,
          1964,
          1965,
          1966,
          1967,
          1968,
          1969,
          1970,
          1971,
          1972,
          1973,
          1974,
          1975,
          1976,
          1977,
          1978,
          1979,
          1980,
          1981,
          1982,
          1983,
          1984,
          1985,
          1986,
          1987,
          1988,
          1989,
          1990,
          1991,
          1992,
          1993,
          1994,
          1995,
          1996,
          1997,
          1998,
          1999,
          2000,
          2001,
          2002,
          2003,
          2004,
          2005,
          2006,
          2007,
          2008,
          2009,
          2010,
          2011,
          2012,
          2013,
          2014,
          2015,
          2016,
          2017,
          2018,
          2019,
          2020,
          2021
         ],
         "y": [
          0.03,
          -0.03,
          0.06,
          0.03,
          0.05,
          -0.2,
          -0.11,
          -0.06,
          -0.02,
          -0.08,
          0.05,
          0.03,
          -0.08,
          0.01,
          0.16,
          -0.07,
          -0.01,
          -0.1,
          0.18,
          0.07,
          0.16,
          0.26,
          0.32,
          0.14,
          0.31,
          0.16,
          0.12,
          0.18,
          0.32,
          0.39,
          0.27,
          0.45,
          0.4,
          0.22,
          0.23,
          0.32,
          0.45,
          0.33,
          0.46,
          0.61,
          0.38,
          0.39,
          0.53,
          0.63,
          0.62,
          0.53,
          0.67,
          0.63,
          0.66,
          0.54,
          0.65,
          0.72,
          0.61,
          0.65,
          0.67,
          0.74,
          0.89,
          1.01,
          0.92,
          0.84,
          0.97,
          1.02,
          0.84
         ]
        }
       ],
       "layout": {
        "autosize": true,
        "template": {
         "data": {
          "bar": [
           {
            "error_x": {
             "color": "#2a3f5f"
            },
            "error_y": {
             "color": "#2a3f5f"
            },
            "marker": {
             "line": {
              "color": "#E5ECF6",
              "width": 0.5
             },
             "pattern": {
              "fillmode": "overlay",
              "size": 10,
              "solidity": 0.2
             }
            },
            "type": "bar"
           }
          ],
          "barpolar": [
           {
            "marker": {
             "line": {
              "color": "#E5ECF6",
              "width": 0.5
             },
             "pattern": {
              "fillmode": "overlay",
              "size": 10,
              "solidity": 0.2
             }
            },
            "type": "barpolar"
           }
          ],
          "carpet": [
           {
            "aaxis": {
             "endlinecolor": "#2a3f5f",
             "gridcolor": "white",
             "linecolor": "white",
             "minorgridcolor": "white",
             "startlinecolor": "#2a3f5f"
            },
            "baxis": {
             "endlinecolor": "#2a3f5f",
             "gridcolor": "white",
             "linecolor": "white",
             "minorgridcolor": "white",
             "startlinecolor": "#2a3f5f"
            },
            "type": "carpet"
           }
          ],
          "choropleth": [
           {
            "colorbar": {
             "outlinewidth": 0,
             "ticks": ""
            },
            "type": "choropleth"
           }
          ],
          "contour": [
           {
            "colorbar": {
             "outlinewidth": 0,
             "ticks": ""
            },
            "colorscale": [
             [
              0,
              "#0d0887"
             ],
             [
              0.1111111111111111,
              "#46039f"
             ],
             [
              0.2222222222222222,
              "#7201a8"
             ],
             [
              0.3333333333333333,
              "#9c179e"
             ],
             [
              0.4444444444444444,
              "#bd3786"
             ],
             [
              0.5555555555555556,
              "#d8576b"
             ],
             [
              0.6666666666666666,
              "#ed7953"
             ],
             [
              0.7777777777777778,
              "#fb9f3a"
             ],
             [
              0.8888888888888888,
              "#fdca26"
             ],
             [
              1,
              "#f0f921"
             ]
            ],
            "type": "contour"
           }
          ],
          "contourcarpet": [
           {
            "colorbar": {
             "outlinewidth": 0,
             "ticks": ""
            },
            "type": "contourcarpet"
           }
          ],
          "heatmap": [
           {
            "colorbar": {
             "outlinewidth": 0,
             "ticks": ""
            },
            "colorscale": [
             [
              0,
              "#0d0887"
             ],
             [
              0.1111111111111111,
              "#46039f"
             ],
             [
              0.2222222222222222,
              "#7201a8"
             ],
             [
              0.3333333333333333,
              "#9c179e"
             ],
             [
              0.4444444444444444,
              "#bd3786"
             ],
             [
              0.5555555555555556,
              "#d8576b"
             ],
             [
              0.6666666666666666,
              "#ed7953"
             ],
             [
              0.7777777777777778,
              "#fb9f3a"
             ],
             [
              0.8888888888888888,
              "#fdca26"
             ],
             [
              1,
              "#f0f921"
             ]
            ],
            "type": "heatmap"
           }
          ],
          "heatmapgl": [
           {
            "colorbar": {
             "outlinewidth": 0,
             "ticks": ""
            },
            "colorscale": [
             [
              0,
              "#0d0887"
             ],
             [
              0.1111111111111111,
              "#46039f"
             ],
             [
              0.2222222222222222,
              "#7201a8"
             ],
             [
              0.3333333333333333,
              "#9c179e"
             ],
             [
              0.4444444444444444,
              "#bd3786"
             ],
             [
              0.5555555555555556,
              "#d8576b"
             ],
             [
              0.6666666666666666,
              "#ed7953"
             ],
             [
              0.7777777777777778,
              "#fb9f3a"
             ],
             [
              0.8888888888888888,
              "#fdca26"
             ],
             [
              1,
              "#f0f921"
             ]
            ],
            "type": "heatmapgl"
           }
          ],
          "histogram": [
           {
            "marker": {
             "pattern": {
              "fillmode": "overlay",
              "size": 10,
              "solidity": 0.2
             }
            },
            "type": "histogram"
           }
          ],
          "histogram2d": [
           {
            "colorbar": {
             "outlinewidth": 0,
             "ticks": ""
            },
            "colorscale": [
             [
              0,
              "#0d0887"
             ],
             [
              0.1111111111111111,
              "#46039f"
             ],
             [
              0.2222222222222222,
              "#7201a8"
             ],
             [
              0.3333333333333333,
              "#9c179e"
             ],
             [
              0.4444444444444444,
              "#bd3786"
             ],
             [
              0.5555555555555556,
              "#d8576b"
             ],
             [
              0.6666666666666666,
              "#ed7953"
             ],
             [
              0.7777777777777778,
              "#fb9f3a"
             ],
             [
              0.8888888888888888,
              "#fdca26"
             ],
             [
              1,
              "#f0f921"
             ]
            ],
            "type": "histogram2d"
           }
          ],
          "histogram2dcontour": [
           {
            "colorbar": {
             "outlinewidth": 0,
             "ticks": ""
            },
            "colorscale": [
             [
              0,
              "#0d0887"
             ],
             [
              0.1111111111111111,
              "#46039f"
             ],
             [
              0.2222222222222222,
              "#7201a8"
             ],
             [
              0.3333333333333333,
              "#9c179e"
             ],
             [
              0.4444444444444444,
              "#bd3786"
             ],
             [
              0.5555555555555556,
              "#d8576b"
             ],
             [
              0.6666666666666666,
              "#ed7953"
             ],
             [
              0.7777777777777778,
              "#fb9f3a"
             ],
             [
              0.8888888888888888,
              "#fdca26"
             ],
             [
              1,
              "#f0f921"
             ]
            ],
            "type": "histogram2dcontour"
           }
          ],
          "mesh3d": [
           {
            "colorbar": {
             "outlinewidth": 0,
             "ticks": ""
            },
            "type": "mesh3d"
           }
          ],
          "parcoords": [
           {
            "line": {
             "colorbar": {
              "outlinewidth": 0,
              "ticks": ""
             }
            },
            "type": "parcoords"
           }
          ],
          "pie": [
           {
            "automargin": true,
            "type": "pie"
           }
          ],
          "scatter": [
           {
            "fillpattern": {
             "fillmode": "overlay",
             "size": 10,
             "solidity": 0.2
            },
            "type": "scatter"
           }
          ],
          "scatter3d": [
           {
            "line": {
             "colorbar": {
              "outlinewidth": 0,
              "ticks": ""
             }
            },
            "marker": {
             "colorbar": {
              "outlinewidth": 0,
              "ticks": ""
             }
            },
            "type": "scatter3d"
           }
          ],
          "scattercarpet": [
           {
            "marker": {
             "colorbar": {
              "outlinewidth": 0,
              "ticks": ""
             }
            },
            "type": "scattercarpet"
           }
          ],
          "scattergeo": [
           {
            "marker": {
             "colorbar": {
              "outlinewidth": 0,
              "ticks": ""
             }
            },
            "type": "scattergeo"
           }
          ],
          "scattergl": [
           {
            "marker": {
             "colorbar": {
              "outlinewidth": 0,
              "ticks": ""
             }
            },
            "type": "scattergl"
           }
          ],
          "scattermapbox": [
           {
            "marker": {
             "colorbar": {
              "outlinewidth": 0,
              "ticks": ""
             }
            },
            "type": "scattermapbox"
           }
          ],
          "scatterpolar": [
           {
            "marker": {
             "colorbar": {
              "outlinewidth": 0,
              "ticks": ""
             }
            },
            "type": "scatterpolar"
           }
          ],
          "scatterpolargl": [
           {
            "marker": {
             "colorbar": {
              "outlinewidth": 0,
              "ticks": ""
             }
            },
            "type": "scatterpolargl"
           }
          ],
          "scatterternary": [
           {
            "marker": {
             "colorbar": {
              "outlinewidth": 0,
              "ticks": ""
             }
            },
            "type": "scatterternary"
           }
          ],
          "surface": [
           {
            "colorbar": {
             "outlinewidth": 0,
             "ticks": ""
            },
            "colorscale": [
             [
              0,
              "#0d0887"
             ],
             [
              0.1111111111111111,
              "#46039f"
             ],
             [
              0.2222222222222222,
              "#7201a8"
             ],
             [
              0.3333333333333333,
              "#9c179e"
             ],
             [
              0.4444444444444444,
              "#bd3786"
             ],
             [
              0.5555555555555556,
              "#d8576b"
             ],
             [
              0.6666666666666666,
              "#ed7953"
             ],
             [
              0.7777777777777778,
              "#fb9f3a"
             ],
             [
              0.8888888888888888,
              "#fdca26"
             ],
             [
              1,
              "#f0f921"
             ]
            ],
            "type": "surface"
           }
          ],
          "table": [
           {
            "cells": {
             "fill": {
              "color": "#EBF0F8"
             },
             "line": {
              "color": "white"
             }
            },
            "header": {
             "fill": {
              "color": "#C8D4E3"
             },
             "line": {
              "color": "white"
             }
            },
            "type": "table"
           }
          ]
         },
         "layout": {
          "annotationdefaults": {
           "arrowcolor": "#2a3f5f",
           "arrowhead": 0,
           "arrowwidth": 1
          },
          "autotypenumbers": "strict",
          "coloraxis": {
           "colorbar": {
            "outlinewidth": 0,
            "ticks": ""
           }
          },
          "colorscale": {
           "diverging": [
            [
             0,
             "#8e0152"
            ],
            [
             0.1,
             "#c51b7d"
            ],
            [
             0.2,
             "#de77ae"
            ],
            [
             0.3,
             "#f1b6da"
            ],
            [
             0.4,
             "#fde0ef"
            ],
            [
             0.5,
             "#f7f7f7"
            ],
            [
             0.6,
             "#e6f5d0"
            ],
            [
             0.7,
             "#b8e186"
            ],
            [
             0.8,
             "#7fbc41"
            ],
            [
             0.9,
             "#4d9221"
            ],
            [
             1,
             "#276419"
            ]
           ],
           "sequential": [
            [
             0,
             "#0d0887"
            ],
            [
             0.1111111111111111,
             "#46039f"
            ],
            [
             0.2222222222222222,
             "#7201a8"
            ],
            [
             0.3333333333333333,
             "#9c179e"
            ],
            [
             0.4444444444444444,
             "#bd3786"
            ],
            [
             0.5555555555555556,
             "#d8576b"
            ],
            [
             0.6666666666666666,
             "#ed7953"
            ],
            [
             0.7777777777777778,
             "#fb9f3a"
            ],
            [
             0.8888888888888888,
             "#fdca26"
            ],
            [
             1,
             "#f0f921"
            ]
           ],
           "sequentialminus": [
            [
             0,
             "#0d0887"
            ],
            [
             0.1111111111111111,
             "#46039f"
            ],
            [
             0.2222222222222222,
             "#7201a8"
            ],
            [
             0.3333333333333333,
             "#9c179e"
            ],
            [
             0.4444444444444444,
             "#bd3786"
            ],
            [
             0.5555555555555556,
             "#d8576b"
            ],
            [
             0.6666666666666666,
             "#ed7953"
            ],
            [
             0.7777777777777778,
             "#fb9f3a"
            ],
            [
             0.8888888888888888,
             "#fdca26"
            ],
            [
             1,
             "#f0f921"
            ]
           ]
          },
          "colorway": [
           "#636efa",
           "#EF553B",
           "#00cc96",
           "#ab63fa",
           "#FFA15A",
           "#19d3f3",
           "#FF6692",
           "#B6E880",
           "#FF97FF",
           "#FECB52"
          ],
          "font": {
           "color": "#2a3f5f"
          },
          "geo": {
           "bgcolor": "white",
           "lakecolor": "white",
           "landcolor": "#E5ECF6",
           "showlakes": true,
           "showland": true,
           "subunitcolor": "white"
          },
          "hoverlabel": {
           "align": "left"
          },
          "hovermode": "closest",
          "mapbox": {
           "style": "light"
          },
          "paper_bgcolor": "white",
          "plot_bgcolor": "#E5ECF6",
          "polar": {
           "angularaxis": {
            "gridcolor": "white",
            "linecolor": "white",
            "ticks": ""
           },
           "bgcolor": "#E5ECF6",
           "radialaxis": {
            "gridcolor": "white",
            "linecolor": "white",
            "ticks": ""
           }
          },
          "scene": {
           "xaxis": {
            "backgroundcolor": "#E5ECF6",
            "gridcolor": "white",
            "gridwidth": 2,
            "linecolor": "white",
            "showbackground": true,
            "ticks": "",
            "zerolinecolor": "white"
           },
           "yaxis": {
            "backgroundcolor": "#E5ECF6",
            "gridcolor": "white",
            "gridwidth": 2,
            "linecolor": "white",
            "showbackground": true,
            "ticks": "",
            "zerolinecolor": "white"
           },
           "zaxis": {
            "backgroundcolor": "#E5ECF6",
            "gridcolor": "white",
            "gridwidth": 2,
            "linecolor": "white",
            "showbackground": true,
            "ticks": "",
            "zerolinecolor": "white"
           }
          },
          "shapedefaults": {
           "line": {
            "color": "#2a3f5f"
           }
          },
          "ternary": {
           "aaxis": {
            "gridcolor": "white",
            "linecolor": "white",
            "ticks": ""
           },
           "baxis": {
            "gridcolor": "white",
            "linecolor": "white",
            "ticks": ""
           },
           "bgcolor": "#E5ECF6",
           "caxis": {
            "gridcolor": "white",
            "linecolor": "white",
            "ticks": ""
           }
          },
          "title": {
           "x": 0.05
          },
          "xaxis": {
           "automargin": true,
           "gridcolor": "white",
           "linecolor": "white",
           "ticks": "",
           "title": {
            "standoff": 15
           },
           "zerolinecolor": "white",
           "zerolinewidth": 2
          },
          "yaxis": {
           "automargin": true,
           "gridcolor": "white",
           "linecolor": "white",
           "ticks": "",
           "title": {
            "standoff": 15
           },
           "zerolinecolor": "white",
           "zerolinewidth": 2
          }
         }
        },
        "title": {
         "text": "OOOO",
         "x": 0.5
        }
       }
      }
     },
     "metadata": {},
     "output_type": "display_data"
    },
    {
     "name": "stderr",
     "output_type": "stream",
     "text": [
      "c:\\Users\\bzhu5\\AppData\\Local\\Programs\\Python\\Python39\\lib\\site-packages\\statsmodels\\graphics\\tsaplots.py:348: FutureWarning:\n",
      "\n",
      "The default method 'yw' can produce PACF values outside of the [-1,1] interval. After 0.13, the default will change tounadjusted Yule-Walker ('ywm'). You can use this method now by setting method='ywm'.\n",
      "\n"
     ]
    },
    {
     "name": "stdout",
     "output_type": "stream",
     "text": [
      "                               SARIMAX Results                                \n",
      "==============================================================================\n",
      "Dep. Variable:                      y   No. Observations:                   63\n",
      "Model:                 ARIMA(9, 1, 0)   Log Likelihood                  56.893\n",
      "Date:                Sat, 12 Nov 2022   AIC                            -93.787\n",
      "Time:                        00:22:34   BIC                            -72.515\n",
      "Sample:                             0   HQIC                           -85.435\n",
      "                                 - 63                                         \n",
      "Covariance Type:                  opg                                         \n",
      "==============================================================================\n",
      "                 coef    std err          z      P>|z|      [0.025      0.975]\n",
      "------------------------------------------------------------------------------\n",
      "ar.L1         -0.4002      0.128     -3.127      0.002      -0.651      -0.149\n",
      "ar.L2         -0.1799      0.156     -1.150      0.250      -0.487       0.127\n",
      "ar.L3         -0.1140      0.161     -0.710      0.478      -0.429       0.201\n",
      "ar.L4          0.0858      0.148      0.581      0.561      -0.204       0.375\n",
      "ar.L5         -0.1275      0.152     -0.836      0.403      -0.426       0.171\n",
      "ar.L6         -0.1262      0.145     -0.871      0.384      -0.410       0.158\n",
      "ar.L7          0.1855      0.152      1.216      0.224      -0.113       0.484\n",
      "ar.L8          0.2189      0.174      1.255      0.210      -0.123       0.561\n",
      "ar.L9         -0.0822      0.164     -0.502      0.616      -0.403       0.239\n",
      "sigma2         0.0091      0.002      4.523      0.000       0.005       0.013\n",
      "===================================================================================\n",
      "Ljung-Box (L1) (Q):                   0.18   Jarque-Bera (JB):                 1.11\n",
      "Prob(Q):                              0.67   Prob(JB):                         0.57\n",
      "Heteroskedasticity (H):               1.15   Skew:                            -0.29\n",
      "Prob(H) (two-sided):                  0.75   Kurtosis:                         2.68\n",
      "===================================================================================\n",
      "\n",
      "Warnings:\n",
      "[1] Covariance matrix calculated using the outer product of gradients (complex-step).\n",
      "NormaltestResult(statistic=1.3856875408291822, pvalue=0.5001517280894341)\n"
     ]
    },
    {
     "data": {
      "image/png": "[encoded data removed]",
      "text/plain": [
       "<Figure size 720x432 with 2 Axes>"
      ]
     },
     "metadata": {
      "needs_background": "light"
     },
     "output_type": "display_data"
    },
    {
     "data": {
      "image/png": "[encoded data removed]",
      "text/plain": [
       "<Figure size 864x576 with 1 Axes>"
      ]
     },
     "metadata": {
      "needs_background": "light"
     },
     "output_type": "display_data"
    },
    {
     "data": {
      "image/png": "[encoded data removed]",
      "text/plain": [
       "<Figure size 432x288 with 4 Axes>"
      ]
     },
     "metadata": {
      "needs_background": "light"
     },
     "output_type": "display_data"
    },
    {
     "name": "stdout",
     "output_type": "stream",
     "text": [
      "   Predicted Sales\n",
      "1         1.797845\n",
      "2         2.787714\n",
      "3         3.852308\n",
      "4         4.883385\n",
      "5         5.838264\n",
      "ADF-Test Result:\n",
      "Test Statistic            2.965181\n",
      "P-value                   0.999768\n",
      "Lags Used                 6.000000\n",
      "nobs                     56.000000\n",
      "Critical Value at 1%     -2.606822\n",
      "Critical Value at 5%     -1.946692\n",
      "Critical Value at 10%    -1.612798\n",
      "dtype: float64\n",
      "-------------------------------------\n",
      "ADF-Test Result:\n",
      "Test Statistic           -3.895122\n",
      "P-value                   0.000110\n",
      "Lags Used                 3.000000\n",
      "nobs                     58.000000\n",
      "Critical Value at 1%     -2.605366\n",
      "Critical Value at 5%     -1.946471\n",
      "Critical Value at 10%    -1.612917\n",
      "dtype: float64\n"
     ]
    },
    {
     "name": "stderr",
     "output_type": "stream",
     "text": [
      "c:\\Users\\bzhu5\\AppData\\Local\\Programs\\Python\\Python39\\lib\\site-packages\\statsmodels\\tsa\\tsatools.py:821: FutureWarning:\n",
      "\n",
      "trend 'nc' has been renamed to 'n' after 0.14 is released. Use 'n' now to avoid this warning.\n",
      "\n",
      "c:\\Users\\bzhu5\\AppData\\Local\\Programs\\Python\\Python39\\lib\\site-packages\\statsmodels\\tsa\\tsatools.py:821: FutureWarning:\n",
      "\n",
      "trend 'nc' has been renamed to 'n' after 0.14 is released. Use 'n' now to avoid this warning.\n",
      "\n"
     ]
    },
    {
     "ename": "AttributeError",
     "evalue": "module 'statsmodels.tsa.api' has no attribute 'ARMA'",
     "output_type": "error",
     "traceback": [
      "\u001b[1;31m---------------------------------------------------------------------------\u001b[0m",
      "\u001b[1;31mAttributeError\u001b[0m                            Traceback (most recent call last)",
      "\u001b[1;32mc:\\Users\\bzhu5\\OneDrive\\Ana-Bing\\HiMCM\\2022\\2022_HiMCM_Problem\\ARIMA_Q2Deg.ipynb Cell 1\u001b[0m in \u001b[0;36m<cell line: 137>\u001b[1;34m()\u001b[0m\n\u001b[0;32m    <a href='vscode-notebook-cell:/c%3A/Users/bzhu5/OneDrive/Ana-Bing/HiMCM/2022/2022_HiMCM_Problem/ARIMA_Q2Deg.ipynb#W0sZmlsZQ%3D%3D?line=136'>137</a>\u001b[0m \u001b[39mfor\u001b[39;00m p \u001b[39min\u001b[39;00m \u001b[39mrange\u001b[39m(\u001b[39m4\u001b[39m):\n\u001b[0;32m    <a href='vscode-notebook-cell:/c%3A/Users/bzhu5/OneDrive/Ana-Bing/HiMCM/2022/2022_HiMCM_Problem/ARIMA_Q2Deg.ipynb#W0sZmlsZQ%3D%3D?line=137'>138</a>\u001b[0m     \u001b[39mfor\u001b[39;00m q \u001b[39min\u001b[39;00m \u001b[39mrange\u001b[39m(\u001b[39m4\u001b[39m):\n\u001b[1;32m--> <a href='vscode-notebook-cell:/c%3A/Users/bzhu5/OneDrive/Ana-Bing/HiMCM/2022/2022_HiMCM_Problem/ARIMA_Q2Deg.ipynb#W0sZmlsZQ%3D%3D?line=138'>139</a>\u001b[0m         arma_model \u001b[39m=\u001b[39m sm\u001b[39m.\u001b[39;49mtsa\u001b[39m.\u001b[39;49mARMA(degree\u001b[39m.\u001b[39mdiff(\u001b[39m1\u001b[39m)\u001b[39m.\u001b[39mdropna(),\n\u001b[0;32m    <a href='vscode-notebook-cell:/c%3A/Users/bzhu5/OneDrive/Ana-Bing/HiMCM/2022/2022_HiMCM_Problem/ARIMA_Q2Deg.ipynb#W0sZmlsZQ%3D%3D?line=139'>140</a>\u001b[0m                                  (p, q))\u001b[39m.\u001b[39mfit()\n\u001b[0;32m    <a href='vscode-notebook-cell:/c%3A/Users/bzhu5/OneDrive/Ana-Bing/HiMCM/2022/2022_HiMCM_Problem/ARIMA_Q2Deg.ipynb#W0sZmlsZQ%3D%3D?line=140'>141</a>\u001b[0m         order_p\u001b[39m.\u001b[39mappend(p)\n\u001b[0;32m    <a href='vscode-notebook-cell:/c%3A/Users/bzhu5/OneDrive/Ana-Bing/HiMCM/2022/2022_HiMCM_Problem/ARIMA_Q2Deg.ipynb#W0sZmlsZQ%3D%3D?line=141'>142</a>\u001b[0m         order_q\u001b[39m.\u001b[39mappend(q)\n",
      "\u001b[1;31mAttributeError\u001b[0m: module 'statsmodels.tsa.api' has no attribute 'ARMA'"
     ]
    },
    {
     "data": {
      "image/png": "[encoded data removed]",
      "text/plain": [
       "<Figure size 576x432 with 1 Axes>"
      ]
     },
     "metadata": {
      "needs_background": "light"
     },
     "output_type": "display_data"
    }
   ],
   "source": [
    "# 加载数据\n",
    "import matplotlib.pyplot as plt\n",
    "import numpy as np\n",
    "import pandas as pd\n",
    "import plotly.graph_objects as go\n",
    "import scipy.stats as stats\n",
    "import statsmodels.api as sm\n",
    "from scipy.optimize import curve_fit\n",
    "from sklearn.metrics import r2_score\n",
    "from statsmodels.tsa.arima.model import ARIMA\n",
    "from statsmodels.tsa.stattools import acf, adfuller, pacf\n",
    "\n",
    "df = pd.read_excel('2022_HiMCM_Data-B-co2.xlsx',sheet_name=\"origin\")\n",
    "year = df['Year'].to_numpy()\n",
    "# ppm = df['PPM']\n",
    "degree = df['Degree']\n",
    "\n",
    "fig = go.Figure()\n",
    "fig.add_traces(go.Scatter(x=year, y=degree.diff(1), mode = \"lines\", name = \"Degree_diff(1)\"))\n",
    "fig.add_traces(go.Scatter(x=year, y=degree, mode = \"lines\", name = \"Degree\"))\n",
    "\n",
    "fig.update_layout( \n",
    "        title='OOOO',\n",
    "        title_x=0.5,\n",
    "        autosize=True,\n",
    "        # width=2200,\n",
    "        # height=1000,\n",
    "    )\n",
    "\n",
    "fig.show()\n",
    "\n",
    "\n",
    "# https://blog.csdn.net/weixin_49583390/article/details/121914303\n",
    "# https://blog.csdn.net/fs01234/article/details/88914930  ##### ARIMA（p,d,q）模型原理及其实现 --------python\n",
    "\n",
    "#——————————————————————————————————————————————————————————————————————————————————————\n",
    "\n",
    "# ARIMA模型分析：\n",
    "# 先把ACF图和PACF图画出来看看：\n",
    "fig = plt.figure(figsize=(10, 6))\n",
    "ax1 = fig.add_subplot(211)\n",
    "\n",
    "fig = sm.graphics.tsa.plot_acf(degree.diff(1).dropna().to_numpy(), lags=41, ax=ax1)  # 注意：要去掉第1个空值\n",
    "\n",
    "ax2 = fig.add_subplot(212)\n",
    "fig = sm.graphics.tsa.plot_pacf(degree.diff(1).dropna(),  lags=30, ax=ax2)  # 注意：要去掉第1个空值\n",
    "# 判断：ACF图在2之后截尾，而PACF拖尾。模型可以由MA(2)→ARIMA(0,1,9).\n",
    "# MA模型：自相关系数截尾，偏自相关函数拖尾\n",
    "\n",
    "# 建立ARIMA模型\n",
    "\n",
    "# https://wiki.mbalib.com/wiki/%E6%9C%80%E5%B0%8F%E4%BA%8C%E4%B9%98%E6%B3%95\n",
    "model = sm.tsa.ARIMA(degree.dropna().to_numpy(), order=(9,1,0)).fit()  # 默认使用最小二乘generalized least squares(GLS)，‘mle’是极大似然估计\n",
    "# model = sm.tsa.ARIMA(degree.diff(1).dropna().to_numpy(), order=(0,1,9)).fit()  # 默认使用最小二乘generalized least squares(GLS)，‘mle’是极大似然估计\n",
    "\n",
    "print(model.summary())\n",
    "\n",
    "resid = model.resid\n",
    "plt.figure(figsize=(12,8))\n",
    "plt.plot(resid)\n",
    "\n",
    "print(stats.normaltest(resid))\n",
    "\n",
    "model.plot_diagnostics()\n",
    "plt.show()\n",
    "\n",
    "# stats.probplot(resid, dist=\"norm\", plot=plt)\n",
    "# plt.show()\n",
    "# plt.hist(resid, bins=50)\n",
    "# plt.show()\n",
    "\n",
    "# 画图比较一下预测值和真实观测值之间的关系\n",
    "fig = plt.figure(figsize=(8, 6))\n",
    "ax = fig.add_subplot(111)\n",
    "ax.plot(degree.diff(1), color='blue', label='Degree')\n",
    "ax.plot(model.fittedvalues, color='red', label='Predicted Degree')\n",
    "plt.legend(loc='upper right')\n",
    "\n",
    "# 最后，把预测值还原为原始数据的形式，预测值是差分数值，需要转化\n",
    "\n",
    "def forecast(step, var, modelname):\n",
    "    diff = list(modelname.predict(len(var)-1, len(var)-1+step, dynamic=True))\n",
    "    prediction = [var[len(var)-1]]\n",
    "    seq = [var[len(var)-1], *diff]\n",
    "    for i in range(step):\n",
    "        v = prediction[i]+seq[i+1]\n",
    "        prediction.append(v)\n",
    "\n",
    "    prediction = pd.DataFrame({'Predicted Sales': prediction})\n",
    "    return prediction[1:]  # 第一个值是原序列最后一个值，故第二个值是预测值。\n",
    "\n",
    "\n",
    "print(forecast(5, degree, model))\n",
    "\n",
    "# # 还可以再进行自相关系数的白噪声检验：\n",
    "# r, q, p = sm.tsa.acf(degree.diff(1).values.squeeze(), qstat=True)  # squeeze: 除去size为1的维度\n",
    "# # np.c_是按行连接两个矩阵，把两矩阵左右相加，要求行数相等，类似pandas的merge()\n",
    "# mat = np.c_[range(1, 41), r[1:], q, p]\n",
    "# table = pd.DataFrame(mat, columns=['lag', 'AC', 'Q', 'Prob(>Q)'])\n",
    "# LB_result = table.iloc[[5, 11, 17]]\n",
    "# LB_result.set_index('lag', inplace=True)\n",
    "# LB_result\n",
    "# # P值均大于0.05，表明白噪声检验不显著，所以数据经过一阶差分后平稳。\n",
    "\n",
    "# 单位根检验(原假设H0：时间序列具有单位根（不平稳）)：\n",
    "# http://www.statsmodels.org/stable/generated/statsmodels.tsa.stattools.adfuller.html?\n",
    "# highlight=adfuller#statsmodels.tsa.stattools.adfuller\n",
    "\n",
    "\n",
    "def DFTest(sales, regression, maxlag, autolag='AIC'):\n",
    "    print(\"ADF-Test Result:\")\n",
    "    dftest = adfuller(sales, regression=regression,\n",
    "                      maxlag=maxlag, autolag=autolag)\n",
    "\n",
    "    dfoutput = pd.Series(dftest[0:4],\n",
    "                         index=['Test Statistic', 'P-value',\n",
    "                                'Lags Used', 'nobs'])\n",
    "    for key, value in dftest[4].items():\n",
    "        dfoutput['Critical Value at %s' % key] = value\n",
    "    print(dfoutput)\n",
    "\n",
    "# regression可以根据模型形式指定为：\n",
    "# ‘c'：仅常数，默认；’ct‘：常数和长期趋势；’ctt’：常数、线性和二次曲线趋势；‘nc’：无常数趋势。\n",
    "\n",
    "\n",
    "DFTest(degree, regression='nc',\n",
    "       maxlag=6, autolag='AIC')  # 对原始数据进行单位根检验\n",
    "\n",
    "print(37*'-')\n",
    "DFTest(degree.diff(1).dropna(),\n",
    "       regression='nc', maxlag=5, autolag='AIC')\n",
    "# 结论：一阶差分后平稳。\n",
    "\n",
    "# 利用BIC最小的模型作为识别的依据：\n",
    "order_p, order_q, bic = [], [], []\n",
    "model_order = pd.DataFrame()\n",
    "for p in range(4):\n",
    "    for q in range(4):\n",
    "        arma_model = sm.tsa.ARMA(degree.diff(1).dropna(),\n",
    "                                 (p, q)).fit()\n",
    "        order_p.append(p)\n",
    "        order_q.append(q)\n",
    "        bic.append(arma_model.bic)\n",
    "        print('The BIC of ARMA(%s,%s) is %s' % (p, q, arma_model.bic))\n",
    "\n",
    "model_order['p'] = order_p\n",
    "model_order['q'] = order_q\n",
    "model_order['BIC'] = bic\n",
    "P = list(model_order['p'][model_order['BIC'] == model_order['BIC'].min()])\n",
    "Q = list(model_order['q'][model_order['BIC'] == model_order['BIC'].min()])\n",
    "print('\\n最好的模型是ARMA(%s,%s)' % (P[0], Q[0]))\n",
    "\n",
    "# 模型参数估计及检验：\n",
    "model = sm.tsa.ARMA(sales['Sales'].diff(1).iloc[1:92].dropna(),\n",
    "                    (0, 2)).fit(method='css')  # 使用最小二乘，‘mle’是极大似然估计\n",
    "params = model.params\n",
    "tvalues = model.tvalues\n",
    "pvalues = model.pvalues\n",
    "result_mat = pd.DataFrame(\n",
    "    {'Estimate': params, 't-values': tvalues, 'pvalues': pvalues})\n",
    "result_mat  # 注意：这里得到的是-θ的结果（Xt=at-θ1a(t-1)-θ2a(t-2)）。从t值来看是显著的。\n",
    "\n",
    "model.aic\n",
    "print('方差估计值是：%f' % model.sigma2)\n",
    "\n",
    "# 如果ARMA模型估计的好，应当使得估计值后的残差项是白噪声。下面对模型的残差项进行白噪声检验：\n",
    "resid = model.resid\n",
    "r, q, p = sm.tsa.acf(resid.values.squeeze(), qstat=True)\n",
    "# np.c_是按行连接两个矩阵，把两矩阵左右相加，要求行数相等，类似pandas的merge()\n",
    "mat_res = np.c_[range(1, 41), r[1:], q, p]\n",
    "table = pd.DataFrame(mat_res, columns=['to lag', 'AC', 'Q', 'Prob(>Q)'])\n",
    "LB_result_res = table.iloc[[5, 11, 17, 23]]\n",
    "LB_result_res.set_index('to lag', inplace=True)\n",
    "LB_result_res\n",
    "# 原假设为残差是白噪声。\n",
    "\n",
    "# 再看一下正态性：\n",
    "sm.ProbPlot(resid, stats.t, fit=True).ppplot(line='45')\n",
    "sm.ProbPlot(resid, stats.t, fit=True).qqplot(line='45')\n",
    "plt.show()\n",
    "\n",
    "plt.figure()\n",
    "x = pd.Series(resid)\n",
    "p1 = x.plot(kind='kde')  # 可以是’line’, ‘bar’, ‘barh’, ‘kde’.kde是密度图。\n",
    "p2 = x.hist(normed=True)\n",
    "plt.grid(True)\n",
    "plt.show()"
   ]
  },
  {
   "cell_type": "code",
   "execution_count": 6,
   "metadata": {},
   "outputs": [
    {
     "data": {
      "application/vnd.plotly.v1+json": {
       "config": {
        "plotlyServerURL": "https://plot.ly"
       },
       "data": [
        {
         "mode": "lines",
         "name": "Degree_diff(1)",
         "type": "scatter",
         "x": [
          1959,
          1960,
          1961,
          1962,
          1963,
          1964,
          1965,
          1966,
          1967,
          1968,
          1969,
          1970,
          1971,
          1972,
          1973,
          1974,
          1975,
          1976,
          1977,
          1978,
          1979,
          1980,
          1981,
          1982,
          1983,
          1984,
          1985,
          1986,
          1987,
          1988,
          1989,
          1990,
          1991,
          1992,
          1993,
          1994,
          1995,
          1996,
          1997,
          1998,
          1999,
          2000,
          2001,
          2002,
          2003,
          2004,
          2005,
          2006,
          2007,
          2008,
          2009,
          2010,
          2011,
          2012,
          2013,
          2014,
          2015,
          2016,
          2017,
          2018,
          2019,
          2020,
          2021
         ],
         "y": [
          null,
          -0.06,
          0.09,
          -0.03,
          0.020000000000000004,
          -0.25,
          0.09000000000000001,
          0.05,
          0.039999999999999994,
          -0.06,
          0.13,
          -0.020000000000000004,
          -0.11,
          0.09,
          0.15,
          -0.23,
          0.060000000000000005,
          -0.09000000000000001,
          0.28,
          -0.10999999999999999,
          0.09,
          0.1,
          0.06,
          -0.18,
          0.16999999999999998,
          -0.15,
          -0.04000000000000001,
          0.06,
          0.14,
          0.07,
          -0.12,
          0.18,
          -0.04999999999999999,
          -0.18000000000000002,
          0.010000000000000009,
          0.09,
          0.13,
          -0.12,
          0.13,
          0.14999999999999997,
          -0.22999999999999998,
          0.010000000000000009,
          0.14,
          0.09999999999999998,
          -0.010000000000000009,
          -0.08999999999999997,
          0.14,
          -0.040000000000000036,
          0.030000000000000027,
          -0.12,
          0.10999999999999999,
          0.06999999999999995,
          -0.10999999999999999,
          0.040000000000000036,
          0.020000000000000018,
          0.06999999999999995,
          0.15000000000000002,
          0.12,
          -0.08999999999999997,
          -0.08000000000000007,
          0.13,
          0.050000000000000044,
          -0.18000000000000005
         ]
        },
        {
         "mode": "lines",
         "name": "Degree",
         "type": "scatter",
         "x": [
          1959,
          1960,
          1961,
          1962,
          1963,
          1964,
          1965,
          1966,
          1967,
          1968,
          1969,
          1970,
          1971,
          1972,
          1973,
          1974,
          1975,
          1976,
          1977,
          1978,
          1979,
          1980,
          1981,
          1982,
          1983,
          1984,
          1985,
          1986,
          1987,
          1988,
          1989,
          1990,
          1991,
          1992,
          1993,
          1994,
          1995,
          1996,
          1997,
          1998,
          1999,
          2000,
          2001,
          2002,
          2003,
          2004,
          2005,
          2006,
          2007,
          2008,
          2009,
          2010,
          2011,
          2012,
          2013,
          2014,
          2015,
          2016,
          2017,
          2018,
          2019,
          2020,
          2021
         ],
         "y": [
          0.03,
          -0.03,
          0.06,
          0.03,
          0.05,
          -0.2,
          -0.11,
          -0.06,
          -0.02,
          -0.08,
          0.05,
          0.03,
          -0.08,
          0.01,
          0.16,
          -0.07,
          -0.01,
          -0.1,
          0.18,
          0.07,
          0.16,
          0.26,
          0.32,
          0.14,
          0.31,
          0.16,
          0.12,
          0.18,
          0.32,
          0.39,
          0.27,
          0.45,
          0.4,
          0.22,
          0.23,
          0.32,
          0.45,
          0.33,
          0.46,
          0.61,
          0.38,
          0.39,
          0.53,
          0.63,
          0.62,
          0.53,
          0.67,
          0.63,
          0.66,
          0.54,
          0.65,
          0.72,
          0.61,
          0.65,
          0.67,
          0.74,
          0.89,
          1.01,
          0.92,
          0.84,
          0.97,
          1.02,
          0.84
         ]
        }
       ],
       "layout": {
        "autosize": true,
        "template": {
         "data": {
          "bar": [
           {
            "error_x": {
             "color": "#2a3f5f"
            },
            "error_y": {
             "color": "#2a3f5f"
            },
            "marker": {
             "line": {
              "color": "#E5ECF6",
              "width": 0.5
             },
             "pattern": {
              "fillmode": "overlay",
              "size": 10,
              "solidity": 0.2
             }
            },
            "type": "bar"
           }
          ],
          "barpolar": [
           {
            "marker": {
             "line": {
              "color": "#E5ECF6",
              "width": 0.5
             },
             "pattern": {
              "fillmode": "overlay",
              "size": 10,
              "solidity": 0.2
             }
            },
            "type": "barpolar"
           }
          ],
          "carpet": [
           {
            "aaxis": {
             "endlinecolor": "#2a3f5f",
             "gridcolor": "white",
             "linecolor": "white",
             "minorgridcolor": "white",
             "startlinecolor": "#2a3f5f"
            },
            "baxis": {
             "endlinecolor": "#2a3f5f",
             "gridcolor": "white",
             "linecolor": "white",
             "minorgridcolor": "white",
             "startlinecolor": "#2a3f5f"
            },
            "type": "carpet"
           }
          ],
          "choropleth": [
           {
            "colorbar": {
             "outlinewidth": 0,
             "ticks": ""
            },
            "type": "choropleth"
           }
          ],
          "contour": [
           {
            "colorbar": {
             "outlinewidth": 0,
             "ticks": ""
            },
            "colorscale": [
             [
              0,
              "#0d0887"
             ],
             [
              0.1111111111111111,
              "#46039f"
             ],
             [
              0.2222222222222222,
              "#7201a8"
             ],
             [
              0.3333333333333333,
              "#9c179e"
             ],
             [
              0.4444444444444444,
              "#bd3786"
             ],
             [
              0.5555555555555556,
              "#d8576b"
             ],
             [
              0.6666666666666666,
              "#ed7953"
             ],
             [
              0.7777777777777778,
              "#fb9f3a"
             ],
             [
              0.8888888888888888,
              "#fdca26"
             ],
             [
              1,
              "#f0f921"
             ]
            ],
            "type": "contour"
           }
          ],
          "contourcarpet": [
           {
            "colorbar": {
             "outlinewidth": 0,
             "ticks": ""
            },
            "type": "contourcarpet"
           }
          ],
          "heatmap": [
           {
            "colorbar": {
             "outlinewidth": 0,
             "ticks": ""
            },
            "colorscale": [
             [
              0,
              "#0d0887"
             ],
             [
              0.1111111111111111,
              "#46039f"
             ],
             [
              0.2222222222222222,
              "#7201a8"
             ],
             [
              0.3333333333333333,
              "#9c179e"
             ],
             [
              0.4444444444444444,
              "#bd3786"
             ],
             [
              0.5555555555555556,
              "#d8576b"
             ],
             [
              0.6666666666666666,
              "#ed7953"
             ],
             [
              0.7777777777777778,
              "#fb9f3a"
             ],
             [
              0.8888888888888888,
              "#fdca26"
             ],
             [
              1,
              "#f0f921"
             ]
            ],
            "type": "heatmap"
           }
          ],
          "heatmapgl": [
           {
            "colorbar": {
             "outlinewidth": 0,
             "ticks": ""
            },
            "colorscale": [
             [
              0,
              "#0d0887"
             ],
             [
              0.1111111111111111,
              "#46039f"
             ],
             [
              0.2222222222222222,
              "#7201a8"
             ],
             [
              0.3333333333333333,
              "#9c179e"
             ],
             [
              0.4444444444444444,
              "#bd3786"
             ],
             [
              0.5555555555555556,
              "#d8576b"
             ],
             [
              0.6666666666666666,
              "#ed7953"
             ],
             [
              0.7777777777777778,
              "#fb9f3a"
             ],
             [
              0.8888888888888888,
              "#fdca26"
             ],
             [
              1,
              "#f0f921"
             ]
            ],
            "type": "heatmapgl"
           }
          ],
          "histogram": [
           {
            "marker": {
             "pattern": {
              "fillmode": "overlay",
              "size": 10,
              "solidity": 0.2
             }
            },
            "type": "histogram"
           }
          ],
          "histogram2d": [
           {
            "colorbar": {
             "outlinewidth": 0,
             "ticks": ""
            },
            "colorscale": [
             [
              0,
              "#0d0887"
             ],
             [
              0.1111111111111111,
              "#46039f"
             ],
             [
              0.2222222222222222,
              "#7201a8"
             ],
             [
              0.3333333333333333,
              "#9c179e"
             ],
             [
              0.4444444444444444,
              "#bd3786"
             ],
             [
              0.5555555555555556,
              "#d8576b"
             ],
             [
              0.6666666666666666,
              "#ed7953"
             ],
             [
              0.7777777777777778,
              "#fb9f3a"
             ],
             [
              0.8888888888888888,
              "#fdca26"
             ],
             [
              1,
              "#f0f921"
             ]
            ],
            "type": "histogram2d"
           }
          ],
          "histogram2dcontour": [
           {
            "colorbar": {
             "outlinewidth": 0,
             "ticks": ""
            },
            "colorscale": [
             [
              0,
              "#0d0887"
             ],
             [
              0.1111111111111111,
              "#46039f"
             ],
             [
              0.2222222222222222,
              "#7201a8"
             ],
             [
              0.3333333333333333,
              "#9c179e"
             ],
             [
              0.4444444444444444,
              "#bd3786"
             ],
             [
              0.5555555555555556,
              "#d8576b"
             ],
             [
              0.6666666666666666,
              "#ed7953"
             ],
             [
              0.7777777777777778,
              "#fb9f3a"
             ],
             [
              0.8888888888888888,
              "#fdca26"
             ],
             [
              1,
              "#f0f921"
             ]
            ],
            "type": "histogram2dcontour"
           }
          ],
          "mesh3d": [
           {
            "colorbar": {
             "outlinewidth": 0,
             "ticks": ""
            },
            "type": "mesh3d"
           }
          ],
          "parcoords": [
           {
            "line": {
             "colorbar": {
              "outlinewidth": 0,
              "ticks": ""
             }
            },
            "type": "parcoords"
           }
          ],
          "pie": [
           {
            "automargin": true,
            "type": "pie"
           }
          ],
          "scatter": [
           {
            "fillpattern": {
             "fillmode": "overlay",
             "size": 10,
             "solidity": 0.2
            },
            "type": "scatter"
           }
          ],
          "scatter3d": [
           {
            "line": {
             "colorbar": {
              "outlinewidth": 0,
              "ticks": ""
             }
            },
            "marker": {
             "colorbar": {
              "outlinewidth": 0,
              "ticks": ""
             }
            },
            "type": "scatter3d"
           }
          ],
          "scattercarpet": [
           {
            "marker": {
             "colorbar": {
              "outlinewidth": 0,
              "ticks": ""
             }
            },
            "type": "scattercarpet"
           }
          ],
          "scattergeo": [
           {
            "marker": {
             "colorbar": {
              "outlinewidth": 0,
              "ticks": ""
             }
            },
            "type": "scattergeo"
           }
          ],
          "scattergl": [
           {
            "marker": {
             "colorbar": {
              "outlinewidth": 0,
              "ticks": ""
             }
            },
            "type": "scattergl"
           }
          ],
          "scattermapbox": [
           {
            "marker": {
             "colorbar": {
              "outlinewidth": 0,
              "ticks": ""
             }
            },
            "type": "scattermapbox"
           }
          ],
          "scatterpolar": [
           {
            "marker": {
             "colorbar": {
              "outlinewidth": 0,
              "ticks": ""
             }
            },
            "type": "scatterpolar"
           }
          ],
          "scatterpolargl": [
           {
            "marker": {
             "colorbar": {
              "outlinewidth": 0,
              "ticks": ""
             }
            },
            "type": "scatterpolargl"
           }
          ],
          "scatterternary": [
           {
            "marker": {
             "colorbar": {
              "outlinewidth": 0,
              "ticks": ""
             }
            },
            "type": "scatterternary"
           }
          ],
          "surface": [
           {
            "colorbar": {
             "outlinewidth": 0,
             "ticks": ""
            },
            "colorscale": [
             [
              0,
              "#0d0887"
             ],
             [
              0.1111111111111111,
              "#46039f"
             ],
             [
              0.2222222222222222,
              "#7201a8"
             ],
             [
              0.3333333333333333,
              "#9c179e"
             ],
             [
              0.4444444444444444,
              "#bd3786"
             ],
             [
              0.5555555555555556,
              "#d8576b"
             ],
             [
              0.6666666666666666,
              "#ed7953"
             ],
             [
              0.7777777777777778,
              "#fb9f3a"
             ],
             [
              0.8888888888888888,
              "#fdca26"
             ],
             [
              1,
              "#f0f921"
             ]
            ],
            "type": "surface"
           }
          ],
          "table": [
           {
            "cells": {
             "fill": {
              "color": "#EBF0F8"
             },
             "line": {
              "color": "white"
             }
            },
            "header": {
             "fill": {
              "color": "#C8D4E3"
             },
             "line": {
              "color": "white"
             }
            },
            "type": "table"
           }
          ]
         },
         "layout": {
          "annotationdefaults": {
           "arrowcolor": "#2a3f5f",
           "arrowhead": 0,
           "arrowwidth": 1
          },
          "autotypenumbers": "strict",
          "coloraxis": {
           "colorbar": {
            "outlinewidth": 0,
            "ticks": ""
           }
          },
          "colorscale": {
           "diverging": [
            [
             0,
             "#8e0152"
            ],
            [
             0.1,
             "#c51b7d"
            ],
            [
             0.2,
             "#de77ae"
            ],
            [
             0.3,
             "#f1b6da"
            ],
            [
             0.4,
             "#fde0ef"
            ],
            [
             0.5,
             "#f7f7f7"
            ],
            [
             0.6,
             "#e6f5d0"
            ],
            [
             0.7,
             "#b8e186"
            ],
            [
             0.8,
             "#7fbc41"
            ],
            [
             0.9,
             "#4d9221"
            ],
            [
             1,
             "#276419"
            ]
           ],
           "sequential": [
            [
             0,
             "#0d0887"
            ],
            [
             0.1111111111111111,
             "#46039f"
            ],
            [
             0.2222222222222222,
             "#7201a8"
            ],
            [
             0.3333333333333333,
             "#9c179e"
            ],
            [
             0.4444444444444444,
             "#bd3786"
            ],
            [
             0.5555555555555556,
             "#d8576b"
            ],
            [
             0.6666666666666666,
             "#ed7953"
            ],
            [
             0.7777777777777778,
             "#fb9f3a"
            ],
            [
             0.8888888888888888,
             "#fdca26"
            ],
            [
             1,
             "#f0f921"
            ]
           ],
           "sequentialminus": [
            [
             0,
             "#0d0887"
            ],
            [
             0.1111111111111111,
             "#46039f"
            ],
            [
             0.2222222222222222,
             "#7201a8"
            ],
            [
             0.3333333333333333,
             "#9c179e"
            ],
            [
             0.4444444444444444,
             "#bd3786"
            ],
            [
             0.5555555555555556,
             "#d8576b"
            ],
            [
             0.6666666666666666,
             "#ed7953"
            ],
            [
             0.7777777777777778,
             "#fb9f3a"
            ],
            [
             0.8888888888888888,
             "#fdca26"
            ],
            [
             1,
             "#f0f921"
            ]
           ]
          },
          "colorway": [
           "#636efa",
           "#EF553B",
           "#00cc96",
           "#ab63fa",
           "#FFA15A",
           "#19d3f3",
           "#FF6692",
           "#B6E880",
           "#FF97FF",
           "#FECB52"
          ],
          "font": {
           "color": "#2a3f5f"
          },
          "geo": {
           "bgcolor": "white",
           "lakecolor": "white",
           "landcolor": "#E5ECF6",
           "showlakes": true,
           "showland": true,
           "subunitcolor": "white"
          },
          "hoverlabel": {
           "align": "left"
          },
          "hovermode": "closest",
          "mapbox": {
           "style": "light"
          },
          "paper_bgcolor": "white",
          "plot_bgcolor": "#E5ECF6",
          "polar": {
           "angularaxis": {
            "gridcolor": "white",
            "linecolor": "white",
            "ticks": ""
           },
           "bgcolor": "#E5ECF6",
           "radialaxis": {
            "gridcolor": "white",
            "linecolor": "white",
            "ticks": ""
           }
          },
          "scene": {
           "xaxis": {
            "backgroundcolor": "#E5ECF6",
            "gridcolor": "white",
            "gridwidth": 2,
            "linecolor": "white",
            "showbackground": true,
            "ticks": "",
            "zerolinecolor": "white"
           },
           "yaxis": {
            "backgroundcolor": "#E5ECF6",
            "gridcolor": "white",
            "gridwidth": 2,
            "linecolor": "white",
            "showbackground": true,
            "ticks": "",
            "zerolinecolor": "white"
           },
           "zaxis": {
            "backgroundcolor": "#E5ECF6",
            "gridcolor": "white",
            "gridwidth": 2,
            "linecolor": "white",
            "showbackground": true,
            "ticks": "",
            "zerolinecolor": "white"
           }
          },
          "shapedefaults": {
           "line": {
            "color": "#2a3f5f"
           }
          },
          "ternary": {
           "aaxis": {
            "gridcolor": "white",
            "linecolor": "white",
            "ticks": ""
           },
           "baxis": {
            "gridcolor": "white",
            "linecolor": "white",
            "ticks": ""
           },
           "bgcolor": "#E5ECF6",
           "caxis": {
            "gridcolor": "white",
            "linecolor": "white",
            "ticks": ""
           }
          },
          "title": {
           "x": 0.05
          },
          "xaxis": {
           "automargin": true,
           "gridcolor": "white",
           "linecolor": "white",
           "ticks": "",
           "title": {
            "standoff": 15
           },
           "zerolinecolor": "white",
           "zerolinewidth": 2
          },
          "yaxis": {
           "automargin": true,
           "gridcolor": "white",
           "linecolor": "white",
           "ticks": "",
           "title": {
            "standoff": 15
           },
           "zerolinecolor": "white",
           "zerolinewidth": 2
          }
         }
        },
        "title": {
         "text": "OOOO",
         "x": 0.5
        }
       }
      }
     },
     "metadata": {},
     "output_type": "display_data"
    },
    {
     "data": {
      "image/png": "[encoded data removed]",
      "text/plain": [
       "<Figure size 432x288 with 1 Axes>"
      ]
     },
     "metadata": {
      "needs_background": "light"
     },
     "output_type": "display_data"
    },
    {
     "data": {
      "image/png": "[encoded data removed]",
      "text/plain": [
       "<Figure size 864x576 with 2 Axes>"
      ]
     },
     "metadata": {
      "needs_background": "light"
     },
     "output_type": "display_data"
    },
    {
     "data": {
      "text/plain": [
       "<Figure size 864x576 with 0 Axes>"
      ]
     },
     "metadata": {},
     "output_type": "display_data"
    },
    {
     "name": "stdout",
     "output_type": "stream",
     "text": [
      "原始序列的ADF检验结果为： (1.5746704497600132, 0.9977795598631019, 9, 53, {'1%': -3.560242358792829, '5%': -2.9178502070837, '10%': -2.5967964150943397}, -85.88087356881391)\n",
      "一阶差分序列的ADF检验结果为： (-4.25397083522795, 0.0005331991807277259, 8, 53, {'1%': -3.560242358792829, '5%': -2.9178502070837, '10%': -2.5967964150943397}, -85.73263464577764)\n",
      "差分序列的白噪声检验结果：     lb_stat  lb_pvalue\n",
      "1  6.880686   0.008713\n"
     ]
    },
    {
     "name": "stderr",
     "output_type": "stream",
     "text": [
      "c:\\Users\\bzhu5\\AppData\\Local\\Programs\\Python\\Python39\\lib\\site-packages\\statsmodels\\tsa\\statespace\\sarimax.py:978: UserWarning:\n",
      "\n",
      "Non-invertible starting MA parameters found. Using zeros as starting parameters.\n",
      "\n",
      "c:\\Users\\bzhu5\\AppData\\Local\\Programs\\Python\\Python39\\lib\\site-packages\\statsmodels\\base\\model.py:604: ConvergenceWarning:\n",
      "\n",
      "Maximum Likelihood optimization failed to converge. Check mle_retvals\n",
      "\n"
     ]
    },
    {
     "name": "stdout",
     "output_type": "stream",
     "text": [
      "                               SARIMAX Results                                \n",
      "==============================================================================\n",
      "Dep. Variable:                 Degree   No. Observations:                   63\n",
      "Model:                 ARIMA(1, 1, 9)   Log Likelihood                  57.526\n",
      "Date:                Sat, 12 Nov 2022   AIC                            -93.053\n",
      "Time:                        21:58:11   BIC                            -69.654\n",
      "Sample:                             0   HQIC                           -83.866\n",
      "                                 - 63                                         \n",
      "Covariance Type:                  opg                                         \n",
      "==============================================================================\n",
      "                 coef    std err          z      P>|z|      [0.025      0.975]\n",
      "------------------------------------------------------------------------------\n",
      "ar.L1         -0.6830      0.459     -1.489      0.136      -1.582       0.216\n",
      "ma.L1          0.2349      0.511      0.459      0.646      -0.768       1.237\n",
      "ma.L2         -0.4166      0.223     -1.868      0.062      -0.854       0.021\n",
      "ma.L3         -0.0197      0.208     -0.095      0.925      -0.428       0.388\n",
      "ma.L4          0.2199      0.134      1.636      0.102      -0.044       0.483\n",
      "ma.L5         -0.1793      0.167     -1.077      0.282      -0.506       0.147\n",
      "ma.L6         -0.2303      0.188     -1.224      0.221      -0.599       0.138\n",
      "ma.L7          0.3352      0.191      1.753      0.080      -0.039       0.710\n",
      "ma.L8          0.4617      0.255      1.808      0.071      -0.039       0.962\n",
      "ma.L9         -0.0403      0.275     -0.146      0.884      -0.579       0.499\n",
      "sigma2         0.0087      0.002      4.410      0.000       0.005       0.013\n",
      "===================================================================================\n",
      "Ljung-Box (L1) (Q):                   0.27   Jarque-Bera (JB):                 0.15\n",
      "Prob(Q):                              0.60   Prob(JB):                         0.93\n",
      "Heteroskedasticity (H):               0.90   Skew:                            -0.05\n",
      "Prob(H) (two-sided):                  0.80   Kurtosis:                         2.78\n",
      "===================================================================================\n",
      "\n",
      "Warnings:\n",
      "[1] Covariance matrix calculated using the outer product of gradients (complex-step).\n",
      "NormaltestResult(statistic=0.2806896326236106, pvalue=0.8690585181751016)\n"
     ]
    },
    {
     "data": {
      "image/png": "[encoded data removed]",
      "text/plain": [
       "<Figure size 432x288 with 4 Axes>"
      ]
     },
     "metadata": {
      "needs_background": "light"
     },
     "output_type": "display_data"
    },
    {
     "data": {
      "image/png": "[encoded data removed]",
      "text/plain": [
       "<Figure size 864x576 with 1 Axes>"
      ]
     },
     "metadata": {
      "needs_background": "light"
     },
     "output_type": "display_data"
    },
    {
     "data": {
      "image/png": "[encoded data removed]",
      "text/plain": [
       "<Figure size 864x576 with 1 Axes>"
      ]
     },
     "metadata": {
      "needs_background": "light"
     },
     "output_type": "display_data"
    },
    {
     "data": {
      "image/png": "[encoded data removed]",
      "text/plain": [
       "<Figure size 432x288 with 1 Axes>"
      ]
     },
     "metadata": {
      "needs_background": "light"
     },
     "output_type": "display_data"
    },
    {
     "name": "stdout",
     "output_type": "stream",
     "text": [
      "2.016994178202715\n"
     ]
    }
   ],
   "source": [
    "import pandas as pd\n",
    "import numpy as np\n",
    "from matplotlib import pyplot as plt\n",
    "import matplotlib\n",
    "import seaborn as sns\n",
    "from statsmodels.tsa.arima.model import ARIMA\n",
    "import statsmodels as sm\n",
    "from scipy import stats\n",
    "# import matplotlib.pyplot as plt/\n",
    "import plotly.graph_objects as go\n",
    "import scipy.stats as stats\n",
    "from scipy.optimize import curve_fit\n",
    "from sklearn.metrics import r2_score\n",
    "# from statsmodels.tsa.arima.model import ARIMA\n",
    "from statsmodels.tsa.stattools import acf, adfuller, pacf\n",
    "from statsmodels.graphics.tsaplots import plot_predict\n",
    "\n",
    "from statsmodels.graphics.tsaplots import plot_acf\n",
    "from statsmodels.graphics.tsaplots import plot_pacf\n",
    "\n",
    "\n",
    "df = pd.read_excel('2022_HiMCM_Data-B-co2.xlsx', sheet_name=\"origin\")\n",
    "year = df['Year'].to_numpy()\n",
    "# ppm = df['PPM']\n",
    "degree = df['Degree']\n",
    "\n",
    "fig = go.Figure()\n",
    "fig.add_traces(go.Scatter(x=year, y=degree.diff(1),\n",
    "                          mode=\"lines\", name=\"Degree_diff(1)\"))\n",
    "fig.add_traces(go.Scatter(x=year, y=degree, mode=\"lines\", name=\"Degree\"))\n",
    "\n",
    "fig.update_layout(\n",
    "    title='OOOO',\n",
    "    title_x=0.5,\n",
    "    autosize=True,\n",
    "    # width=2200,\n",
    "    # height=1000,\n",
    ")\n",
    "\n",
    "fig.show()\n",
    "# _____________________________________\n",
    "\n",
    "plt.hist(degree.diff(1), bins=20)\n",
    "\n",
    "# print(\"-\"*50, \"一阶差分数据ACF与PACF\", \"-\"*50)\n",
    "fig = plt.figure(figsize=(12, 8))\n",
    "ax1 = fig.add_subplot(211)\n",
    "fig = plot_acf(degree.diff(1).dropna().values, lags=60, ax=ax1)\n",
    "ax2 = fig.add_subplot(212)\n",
    "figpac = plt.figure(figsize=(12, 8))\n",
    "\n",
    "figpac = plot_pacf(degree.diff(1).dropna(), method='ols', lags=20, ax=ax2)\n",
    "plt.show()\n",
    "\n",
    "# ——————————————————————————————————————————————————————————————————————————\n",
    "#未差分平稳性检测（ADF检验、单位根检验）\n",
    "from  statsmodels.tsa.stattools  import  adfuller  as  ADF\n",
    "print(u'原始序列的ADF检验结果为：',  ADF(degree))\n",
    "\n",
    "#一阶差分平稳性检测（ADF检验、单位根检验）\n",
    "print(u'一阶差分序列的ADF检验结果为：',  ADF(degree.diff(1).dropna()))\n",
    "\n",
    "#返回值依次为adf、pvalue、usedlag、nobs、critical  values、icbest、regresults、resstore\n",
    "# p<0.05时表示稳定\n",
    "\n",
    "from statsmodels.stats.diagnostic import acorr_ljungbox\n",
    "print(u'差分序列的白噪声检验结果：',acorr_ljungbox(degree.diff(1).dropna(), lags= 1)) #返回统计量和 p 值\n",
    "\n",
    "# ——————————————————————————————————————————————————————————————————————————\n",
    "\n",
    "# 拟合\n",
    "arima910 = ARIMA(degree,order=(1,1,9)).fit()\n",
    "print(arima910.summary())\n",
    "\n",
    "arima910.plot_diagnostics()\n",
    "\n",
    "# ——————————————————————————————————————————————————————————————————————————\n",
    "# https://mp.weixin.qq.com/s/rPeWlC7EdNto57ZsFvZ-ug\n",
    "\n",
    "#残差\n",
    "resid=arima910.resid\n",
    "plt.figure(figsize=(12,8))\n",
    "plt.plot(resid)\n",
    "print(stats.normaltest(resid))#检验序列残差是否为正态分布    pvalue=0.00028625258929196876   <  0.05  拒绝原假设 认为残差符合正太分布\n",
    "plt.figure(figsize=(12,8))\n",
    "\n",
    "stats.probplot(resid, dist=\"norm\", plot=plt)\n",
    "plt.show()\n",
    "plt.hist(resid,bins=50)\n",
    "plt.show()\n",
    "\n",
    "from statsmodels.stats.stattools import durbin_watson\n",
    "print(durbin_watson(arima910.resid.values))     #DW检验：靠近2——正常；靠近0——正自相关；靠近4——负自相关\n",
    "\n",
    "# ——————————————————————————————————————————————————————————\n",
    "# pred_ci = pred.conf_int()\n",
    "\n",
    "# # 绘制原数据和预测数据对比图\n",
    "# ## 可视化模型的在测试集上的预测结果\n",
    "# model.plot_predict(h=degree.shape[0], ## 往后预测多少步\n",
    "#                    oos_data=degree,  ## 测试数据集\n",
    "#                    past_values=degree.shape[0], ## 图像显示训练集的多少数据 \n",
    "#                    figsize=(15,5))\n",
    "# ## 可视化原始数据\n",
    "# plt.figure(figsize=(12,8))\n",
    "# plt.xlabel(\"Time\")\n",
    "# plt.ylabel(\"Temperature\")\n",
    "# plt.show()\n",
    "\n",
    "# 获取未来500步的预测\n",
    "pred_uc = arima910.get_forecast(steps=500)\n",
    "\n",
    "# 获取预测的置信区间\n",
    "pred_ci = pred_uc.conf_int()\n",
    "\n",
    "\n",
    "\n",
    "\n",
    "# print(\"在测试集上mean absolute error:\",mean_absolute_error(testdata.C02,C02pre.C02))\n",
    "# print(\"在测试集上mean squared error:\",mean_squared_error(testdata.C02,C02pre.C02))\n"
   ]
  }
 ],
 "metadata": {
  "kernelspec": {
   "display_name": "Python 3.9.1 64-bit",
   "language": "python",
   "name": "python3"
  },
  "language_info": {
   "codemirror_mode": {
    "name": "ipython",
    "version": 3
   },
   "file_extension": ".py",
   "mimetype": "text/x-python",
   "name": "python",
   "nbconvert_exporter": "python",
   "pygments_lexer": "ipython3",
   "version": "3.9.1"
  },
  "orig_nbformat": 4,
  "vscode": {
   "interpreter": {
    "hash": "dbd1ced04e1a75aa211a3cad66fcd043bbd2f3f4264b33dd4cf9d79041e2bd71"
   }
  }
 },
 "nbformat": 4,
 "nbformat_minor": 2
}
